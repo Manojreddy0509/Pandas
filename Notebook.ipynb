{
 "cells": [
  {
   "cell_type": "code",
   "execution_count": null,
   "id": "bb704c5e",
   "metadata": {},
   "outputs": [],
   "source": [
    "import pandas as pd\n",
    "\n",
    "data = {\n",
    "    'Name': ['Alice', 'Bob', 'Charlie'],\n",
    "    'Age': [25, 30, 35],\n",
    "    'Country': ['USA', 'Canada', 'UK']\n",
    "}\n",
    "\n",
    "df = pd.DataFrame(data)\n",
    "print(df)"
   ]
  },
  {
   "cell_type": "code",
   "execution_count": null,
   "id": "3b6d65b6",
   "metadata": {},
   "outputs": [],
   "source": [
    "import pandas as pd # type: ignore\n",
    "df=pd.read_csv(\"orders.csv\")"
   ]
  },
  {
   "cell_type": "code",
   "execution_count": null,
   "id": "f973a3ee",
   "metadata": {},
   "outputs": [],
   "source": [
    "df\n",
    "df.head()\n",
    "df.tail()\n",
    "df.describe()\n",
    "df.index\n",
    "df.info()\n",
    "df.columns"
   ]
  },
  {
   "cell_type": "code",
   "execution_count": null,
   "id": "553cad61",
   "metadata": {},
   "outputs": [],
   "source": [
    "df[\"Country\"]\n",
    "len(df[\"Country\"])\n",
    "df[\"Country\"].unique()\n",
    "df[[\"Country\", \"Product\"]]"
   ]
  },
  {
   "cell_type": "code",
   "execution_count": null,
   "id": "4960cb0d",
   "metadata": {},
   "outputs": [],
   "source": [
    "df.iloc[2]\n",
    "df.iloc[2:4]\n",
    "df.iloc[2:4, 0:2]   \n",
    "list(df.columns)\n",
    "df.iloc[2][5] \n",
    "df.iloc[2][\"Product\"]"
   ]
  },
  {
   "cell_type": "code",
   "execution_count": null,
   "id": "1d8dac71",
   "metadata": {},
   "outputs": [],
   "source": [
    "df[df[\"Category\"] == \"Electronics\"]\n",
    "df[(df[\"Category\"] == \"Electronics\") & (df[\"Price\"] > 100)]\n",
    "df[df[\"Category\"].isin([\"Electronics\", \"Books\"])]\n",
    "df.sort_values(by=\"Price\", ascending=False)\n",
    "df[(df[\"Category\"] == \"Electronics\") | (df[\"Price\"] > 100)]\n",
    "#df.hist(column='Price', bins=10)\n",
    "df[df[\"CustomerName\"].str.startswith(\"A\")]\n",
    "df[df[\"CustomerName\"].str.contains(\"Smith\")]\n",
    "df[df[\"CustomerName\"].str.len() > 5]\n",
    "df[df[\"Country\"].isin([\"USA\", \"Canada\"])]\n",
    "\n"
   ]
  },
  {
   "cell_type": "code",
   "execution_count": null,
   "id": "653837d1",
   "metadata": {},
   "outputs": [],
   "source": [
    "df.loc[df[\"CustomerName\"]== \"Sarah Lee\",\"Product\"]= \"Smartphone\"\n",
    "df.loc[df[\"CustomerName\"]== \"Sarah Lee\",\"Price\"]= 299.99\n",
    "df.loc[df[\"Country\"]==\"USA\",\"Country\"]= \"United States\"\n",
    "df[\"Country\"]=df[\"Country\"].str.upper()"
   ]
  },
  {
   "cell_type": "code",
   "execution_count": null,
   "id": "5093c8c3",
   "metadata": {},
   "outputs": [],
   "source": [
    "df.head()"
   ]
  },
  {
   "cell_type": "code",
   "execution_count": null,
   "id": "ce5e372b",
   "metadata": {},
   "outputs": [],
   "source": [
    "df.drop(39)"
   ]
  },
  {
   "cell_type": "code",
   "execution_count": null,
   "id": "2283d99d",
   "metadata": {},
   "outputs": [],
   "source": [
    "# Drop rows with any NaN values\n",
    "df.dropna(inplace=True)\n",
    "df\n",
    "\n",
    "# Rename columns\n",
    "df.rename(columns={\"OrderID\": \"ID\", \"CustomerName\": \"Customer\"}, inplace=True)\n",
    "df\n",
    "\n",
    "# Fill NaN values in the 'ID' column with 0\n",
    "df.fillna({'ID': 0}, inplace=True)\n",
    "df\n"
   ]
  },
  {
   "cell_type": "code",
   "execution_count": null,
   "id": "1f55cb8e",
   "metadata": {},
   "outputs": [],
   "source": [
    "df[\"Country\"].value_counts()\n",
    "df[\"Country\"].unique()\n",
    "df[\"Country\"].nunique()\n",
    "df[\"Country\"].mode()\n",
    "df[\"Country\"].value_counts(normalize=True)\n",
    "df[\"Country\"].str.lower()\n",
    "df[\"Country\"].str.upper()\n",
    "df[\"Country\"].str.title()\n",
    "df[\"Country\"].str.replace(\"USA\", \"United States\")\n",
    "df[\"Country\"].str.contains(\"United\")\n",
    "df[\"Country\"].str.startswith(\"U\")\n",
    "df[\"Country\"].str.endswith(\"States\")\n",
    "df[\"Country\"].str.split(\",\")\n",
    "df[\"Country\"].str.strip()\n",
    "df[\"Country\"].str.len()\n",
    "df[\"Country\"].str.isalpha()\n",
    "df[\"Country\"].str.isnumeric()"
   ]
  },
  {
   "cell_type": "code",
   "execution_count": 60,
   "id": "47f90008",
   "metadata": {},
   "outputs": [
    {
     "data": {
      "text/plain": [
       "Country\n",
       "Argentina        22.000000\n",
       "Australia        12.000000\n",
       "Brazil           95.000000\n",
       "Canada           76.750000\n",
       "China           280.000000\n",
       "Colombia         42.000000\n",
       "Egypt             8.000000\n",
       "France           80.000000\n",
       "Germany          87.500000\n",
       "India           180.000000\n",
       "Iran             28.000000\n",
       "Italy             9.750000\n",
       "Japan            35.000000\n",
       "Mexico           80.000000\n",
       "Morocco          32.000000\n",
       "Pakistan          4.000000\n",
       "Poland           45.000000\n",
       "Portugal        125.000000\n",
       "Russia            2.500000\n",
       "Saudi Arabia    120.000000\n",
       "Singapore        45.000000\n",
       "South Korea     116.000000\n",
       "Spain            25.000000\n",
       "Sweden           28.000000\n",
       "UAE             152.500000\n",
       "UK              259.000000\n",
       "USA             421.933333\n",
       "Ukraine          35.000000\n",
       "Name: Price, dtype: float64"
      ]
     },
     "execution_count": 60,
     "metadata": {},
     "output_type": "execute_result"
    }
   ],
   "source": [
    "\n",
    "df.groupby(\"Country\")[\"Price\"].mean()"
   ]
  },
  {
   "cell_type": "code",
   "execution_count": 61,
   "id": "0712c208",
   "metadata": {},
   "outputs": [],
   "source": [
    "df.to_csv(\"updated_orders.csv\", index=False)"
   ]
  }
 ],
 "metadata": {
  "kernelspec": {
   "display_name": "Python 3",
   "language": "python",
   "name": "python3"
  },
  "language_info": {
   "codemirror_mode": {
    "name": "ipython",
    "version": 3
   },
   "file_extension": ".py",
   "mimetype": "text/x-python",
   "name": "python",
   "nbconvert_exporter": "python",
   "pygments_lexer": "ipython3",
   "version": "3.10.18"
  }
 },
 "nbformat": 4,
 "nbformat_minor": 5
}
